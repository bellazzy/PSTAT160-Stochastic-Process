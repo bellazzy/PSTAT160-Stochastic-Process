{
 "cells": [
  {
   "cell_type": "markdown",
   "metadata": {},
   "source": [
    "# Python Homework 5\n",
    "\n",
    "**Release date:** Saturday, May 2nd <br>\n",
    "**Due date:** Friday, __May 15th__, 11:59 p.m. via GauchoSpace\n",
    "\n",
    "**Instruction:** Please upload your pdf or html file on GauchoSpace with filename \"PythonHW5_YOURPERMNUMBER\"."
   ]
  },
  {
   "cell_type": "markdown",
   "metadata": {},
   "source": [
    "__Background:__ The purpose of this python homework is to explore the so-called __Arcsine Laws__ numerically. They describe a number of interesting results by relating path properties of the simple symmetric random walk to the __arcsine distribution__ (see also __Lecture 12__!!)."
   ]
  },
  {
   "cell_type": "markdown",
   "metadata": {},
   "source": [
    "Given a <b>simple symmetric random walk</b> $(S_n)_{n\\geq 0}$ with $S_0 =0$, we define the following random variables:\n",
    "* The total number of periods from $0$ to $2N$ the random walk spends above zero: \n",
    "\n",
    "$$C_{2N}= \\vert \\{ n \\in \\{ 1,\\dots , 2N \\} : S_n > 0 \\}\\vert. $$\n",
    "\n",
    "* The time of the last visit to $0$ before time $2N$: \n",
    "\n",
    "$$L_{2N} = \\max \\{ 0 \\leq n \\leq  2N : S_n = 0 \\}.$$\n",
    "\n",
    "* The time when the random walk reaches its maximum value between time $0$ and $2N$: \n",
    "\n",
    "$$M_{2N} = \\operatorname{argmax} \\{ S_n : 0 \\leq n \\leq 2N \\}.$$ "
   ]
  },
  {
   "cell_type": "markdown",
   "metadata": {},
   "source": [
    "As usual, we start with loading some packages:"
   ]
  },
  {
   "cell_type": "code",
   "execution_count": null,
   "metadata": {},
   "outputs": [],
   "source": [
    "import numpy as np\n",
    "import matplotlib.pyplot as plt\n",
    "from scipy.stats import arcsine"
   ]
  },
  {
   "cell_type": "markdown",
   "metadata": {},
   "source": [
    "## Problem 1 (2 Points)\n",
    "\n",
    "1. Write a function <tt>randomWalk(...)</tt> which simulates one <i>path</i> (or <i>trajectory</i>) of a simple symmetric random walk with 2N time steps (i.e. from 0,1,2,...,2N) starting at $S_0=0$.\n",
    "\n",
    "Input: \n",
    "* <tt>lengthOfRandomWalk = 2N</tt> \n",
    "\n",
    "Output:\n",
    "* <tt>samplePath</tt>: Array of length 2N+1 with the entire path of the random walk on 0,1,2,...,2N\n"
   ]
  },
  {
   "cell_type": "code",
   "execution_count": null,
   "metadata": {},
   "outputs": [],
   "source": [
    "def randomWalk(lengthOfRandomWalk):\n",
    "    \n",
    "    ## WRITE YOUR OWN CODE HERE\n",
    "    ## HINT: USE np.random.choice() TO SIMULATE THE INCREMENTS\n",
    "    \n",
    "    return samplePath"
   ]
  },
  {
   "cell_type": "code",
   "execution_count": null,
   "metadata": {},
   "outputs": [],
   "source": [
    "## TEST YOUR FUNCTION HERE\n",
    "print(randomWalk(100))"
   ]
  },
  {
   "cell_type": "markdown",
   "metadata": {},
   "source": [
    "2. Plot the trajectory of the random walk you simulated in 1.)"
   ]
  },
  {
   "cell_type": "code",
   "execution_count": null,
   "metadata": {},
   "outputs": [],
   "source": [
    "## WRITE YOUR OWN CODE HERE"
   ]
  },
  {
   "cell_type": "markdown",
   "metadata": {},
   "source": [
    "## Problem 2 (6 points)\n",
    "\n",
    "Write __three__ functions which take a path (= realization) of the random walk as an input and then compute a value (= realization) of the random variables $C_{2N}, L_{2N}, M_{2N}$, respectively, as defined above."
   ]
  },
  {
   "cell_type": "markdown",
   "metadata": {},
   "source": [
    "__1. Function:__ <tt>timeAboveZero(...)</tt>\n",
    "\n",
    "Input: \n",
    "* <tt>path</tt>: Realization of the random walk from the function <tt>randomWalk(2N)</tt> \n",
    "\n",
    "Output:\n",
    "* <tt>result</tt>: Realization of the random variable $C_{2N}$"
   ]
  },
  {
   "cell_type": "code",
   "execution_count": null,
   "metadata": {},
   "outputs": [],
   "source": [
    "def timeAboveZero(path):\n",
    "    \n",
    "    ## WRITE YOUR OWN CODE HERE\n",
    "    ## HINT: USE numpy.sum() AND A LOGICAL OPERATION\n",
    "\n",
    "    return result"
   ]
  },
  {
   "cell_type": "code",
   "execution_count": null,
   "metadata": {},
   "outputs": [],
   "source": [
    "## TEST YOUR FUNCTION HERE\n",
    "path = randomWalk(20)\n",
    "print(path)\n",
    "timeAboveZero(path)"
   ]
  },
  {
   "cell_type": "markdown",
   "metadata": {},
   "source": [
    "__2. Function:__ <tt>TimeOfLastVisitOfZero(...)</tt>\n",
    "\n",
    "Input: \n",
    "* <tt>path</tt>: Realization of the random walk from the function <tt>randomWalk(2N)</tt> \n",
    "\n",
    "Output:\n",
    "* <tt>result</tt>: Realization of the random variable $L_{2N}$"
   ]
  },
  {
   "cell_type": "code",
   "execution_count": null,
   "metadata": {},
   "outputs": [],
   "source": [
    "def TimeOfLastVisitOfZero(path):\n",
    "    \n",
    "    ## WRITE YOUR OWN CODE HERE\n",
    "    ## HINT: USE numpy.where() AND numpy.amax()\n",
    "        \n",
    "    return lastVisit  "
   ]
  },
  {
   "cell_type": "code",
   "execution_count": null,
   "metadata": {},
   "outputs": [],
   "source": [
    "## TEST YOUR FUNCTION HERE\n",
    "path = randomWalk(20)\n",
    "print(path)\n",
    "TimeOfLastVisitOfZero(path)"
   ]
  },
  {
   "cell_type": "markdown",
   "metadata": {},
   "source": [
    "__3. Function:__ <tt>timeHitMax(...)</tt>\n",
    "\n",
    "Input: \n",
    "* <tt>path</tt>: Realization of the random walk from the function <tt>randomWalk(2N)</tt> \n",
    "\n",
    "Output:\n",
    "* <tt>result</tt>: Realization of the random variable $M_{2N}$"
   ]
  },
  {
   "cell_type": "code",
   "execution_count": null,
   "metadata": {},
   "outputs": [],
   "source": [
    "def timeHitMax(randomWalk):\n",
    "    \n",
    "    ## WRITE YOUR OWN CODE HERE\n",
    "    ## HINT: USE numpy.argmax()\n",
    "\n",
    "    return result "
   ]
  },
  {
   "cell_type": "code",
   "execution_count": null,
   "metadata": {},
   "outputs": [],
   "source": [
    "## TEST YOUR FUNCTION HERE\n",
    "path = randomWalk(20)\n",
    "print(path)\n",
    "timeHitMax(path)"
   ]
  },
  {
   "cell_type": "markdown",
   "metadata": {},
   "source": [
    "## Problem 3 (2 Points)\n",
    "\n",
    "Random Walk theory provides us with the following interesting asymptotic statements (cf. __Lecture 12__):\n",
    "\n",
    "$$\\lim_{N\\rightarrow \\infty} \\mathbb{P} \\left[ \\frac{C_{2N}}{2N} \\leq x\\right] =\\frac{2}{\\pi} \\arcsin(\\sqrt{x})$$\n",
    "\n",
    "$$\\lim_{N\\rightarrow \\infty} \\mathbb{P} \\left[ \\frac{L_{2N}}{2N} \\leq x\\right] =\\frac{2}{\\pi} \\arcsin(\\sqrt{x})$$\n",
    "\n",
    "$$\\lim_{N\\rightarrow \\infty} \\mathbb{P} \\left[ \\frac{M_{2N}}{2N} \\leq x\\right] =\\frac{2}{\\pi} \\arcsin(\\sqrt{x})$$\n",
    "\n",
    "We say that the random variables $C_{2N}/2N, L_{2N}/2N, M_{2N}/2N$ <b>converge in distribution</b> to the Arcsine Distribution."
   ]
  },
  {
   "cell_type": "code",
   "execution_count": null,
   "metadata": {
    "scrolled": true
   },
   "outputs": [],
   "source": [
    "## A PLOT OF THE ARCSINE DENSITY\n",
    "x = np.linspace(arcsine.ppf(0.05), arcsine.ppf(0.95), 100)\n",
    "plt.title(\"Density of the arcsine distribution\")\n",
    "plt.plot(x, arcsine.pdf(x), linewidth=2, color='b')\n",
    "plt.show()"
   ]
  },
  {
   "cell_type": "markdown",
   "metadata": {},
   "source": [
    "For $2N = 1000$ sample 10,000 realizations of each of the random variables $C_{2N}/2N, L_{2N}/2N,$ and $M_{2N}/2N$, respectively by using your functions above. Display a normalized histogram for all three simulations, along with the probability density function of the arcsine distribution, to check the above facts numerically! "
   ]
  },
  {
   "cell_type": "code",
   "execution_count": null,
   "metadata": {},
   "outputs": [],
   "source": [
    "# WRITE YOUR OWN CODE HERE! FEEL FREE TO INSERT MORE CELLS!\n",
    "# ADD SOME COMMENTS TO YOUR CODE!\n"
   ]
  },
  {
   "cell_type": "code",
   "execution_count": null,
   "metadata": {},
   "outputs": [],
   "source": [
    "# COMPLETE/MODIFY THE PLOT COMMANDS ACCORDINGLY\n",
    "\n",
    "N = 500\n",
    "M = 10000\n",
    "\n",
    "\n",
    "c = arcsine.rvs(size=10000)  # This has to be replaced by the simulated values for C_2N !!!\n",
    "\n",
    "plt.figure(figsize=(10,5))\n",
    "plt.title(\"Normalized histogram for 10000 realisations of $C_{1000}$\")\n",
    "plt.hist(c, bins='auto', density='True')\n",
    "plt.plot(x, arcsine.pdf(x), linewidth=2, color='r', label=\"true arcsine density\")\n",
    "plt.legend()\n",
    "\n",
    "\n",
    "l = arcsine.rvs(size=10000)  # This has to be replaced by the corresponding simulated values for L_2N !!!\n",
    "\n",
    "plt.figure(figsize=(10,5))\n",
    "plt.title(\"Normalized histogram for 10000 realisations of $L_{1000}$\")\n",
    "plt.hist(l, bins='auto', density='True')\n",
    "plt.plot(x, arcsine.pdf(x), linewidth=2, color='r', label=\"true arcsine density\")\n",
    "plt.legend()\n",
    "\n",
    "\n",
    "m = arcsine.rvs(size=10000)  # This has to be replaced by the corresponding simulated values for M_2N !!!\n",
    "\n",
    "plt.figure(figsize=(10,5))\n",
    "plt.title(\"Normalized histogram for 10000 realisations of $M_{1000}$\")\n",
    "plt.hist(m, bins='auto', density='True')\n",
    "plt.plot(x, arcsine.pdf(x), linewidth=2, color='r', label=\"true arcsine density\")\n",
    "plt.legend()\n",
    "\n",
    "plt.show()"
   ]
  }
 ],
 "metadata": {
  "anaconda-cloud": {},
  "kernelspec": {
   "display_name": "Python 3",
   "language": "python",
   "name": "python3"
  },
  "language_info": {
   "codemirror_mode": {
    "name": "ipython",
    "version": 3
   },
   "file_extension": ".py",
   "mimetype": "text/x-python",
   "name": "python",
   "nbconvert_exporter": "python",
   "pygments_lexer": "ipython3",
   "version": "3.7.3"
  }
 },
 "nbformat": 4,
 "nbformat_minor": 2
}
